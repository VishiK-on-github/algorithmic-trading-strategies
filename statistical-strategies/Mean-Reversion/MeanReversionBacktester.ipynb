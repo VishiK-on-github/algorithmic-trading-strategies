{
 "cells": [
  {
   "cell_type": "code",
   "execution_count": 1,
   "metadata": {},
   "outputs": [],
   "source": [
    "import pandas as pd\n",
    "import numpy as np\n",
    "from itertools import product\n",
    "import plotly.graph_objs as go\n",
    "from plotly.subplots import make_subplots"
   ]
  },
  {
   "cell_type": "code",
   "execution_count": 3,
   "metadata": {},
   "outputs": [],
   "source": [
    "class MeanReversionBactester():\n",
    "\n",
    "  def __init__(self, symbol, SMA, dev, start, end, tc):\n",
    "\n",
    "    self.symbol = symbol\n",
    "    self.SMA = SMA\n",
    "    self.dev = dev\n",
    "    self.start = start\n",
    "    self.end = end\n",
    "    self.tc = tc\n",
    "    self.results = None\n",
    "\n",
    "  def __repr__(self):\n",
    "    return f\"MeanReversionBacktester(symbol = {self.symbol}, SMA = {self.SMA}, dev = {self.dev}, start = {self.start}, end = {self.end})\""
   ]
  },
  {
   "cell_type": "code",
   "execution_count": 4,
   "metadata": {},
   "outputs": [
    {
     "ename": "NameError",
     "evalue": "name 'symbol' is not defined",
     "output_type": "error",
     "traceback": [
      "\u001b[1;31m---------------------------------------------------------------------------\u001b[0m",
      "\u001b[1;31mNameError\u001b[0m                                 Traceback (most recent call last)",
      "\u001b[1;32md:\\Program-Data\\algorithmic-trading-strategies\\algorithmic-trading-strategies\\statistical-strategies\\Mean-Reversion\\MeanReversionBacktester.ipynb Cell 3'\u001b[0m in \u001b[0;36m<cell line: 1>\u001b[1;34m()\u001b[0m\n\u001b[1;32m----> <a href='vscode-notebook-cell:/d%3A/Program-Data/algorithmic-trading-strategies/algorithmic-trading-strategies/statistical-strategies/Mean-Reversion/MeanReversionBacktester.ipynb#ch0000002?line=0'>1</a>\u001b[0m obj \u001b[39m=\u001b[39m MeanReversionBactester(symbol, SMA, dev, start, end, tc)\n",
      "\u001b[1;31mNameError\u001b[0m: name 'symbol' is not defined"
     ]
    }
   ],
   "source": [
    "obj = MeanReversionBactester(symbol, SMA, dev, start, end, tc)"
   ]
  },
  {
   "cell_type": "code",
   "execution_count": null,
   "metadata": {},
   "outputs": [],
   "source": []
  }
 ],
 "metadata": {
  "interpreter": {
   "hash": "aa4f8eaefb05b596a11b8ae77c4a4e93cda3008b3c40a33b4b33cce799ef77ac"
  },
  "kernelspec": {
   "display_name": "Python 3.9.2 ('env': venv)",
   "language": "python",
   "name": "python3"
  },
  "language_info": {
   "codemirror_mode": {
    "name": "ipython",
    "version": 3
   },
   "file_extension": ".py",
   "mimetype": "text/x-python",
   "name": "python",
   "nbconvert_exporter": "python",
   "pygments_lexer": "ipython3",
   "version": "3.9.2"
  },
  "orig_nbformat": 4
 },
 "nbformat": 4,
 "nbformat_minor": 2
}
