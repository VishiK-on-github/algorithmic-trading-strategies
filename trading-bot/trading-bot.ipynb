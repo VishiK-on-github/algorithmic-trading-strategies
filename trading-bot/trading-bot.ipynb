{
 "cells": [
  {
   "cell_type": "markdown",
   "metadata": {},
   "source": [
    "## Trading Bot - ML Strategy"
   ]
  },
  {
   "cell_type": "code",
   "execution_count": 20,
   "metadata": {},
   "outputs": [],
   "source": [
    "import pandas as pd\n",
    "import numpy as np\n",
    "from sklearn.linear_model import LinearRegression\n",
    "import fxcmpy\n",
    "import time\n",
    "from datetime import datetime\n",
    "import pickle"
   ]
  },
  {
   "cell_type": "code",
   "execution_count": 21,
   "metadata": {},
   "outputs": [],
   "source": [
    "FXCM_API_TOKEN = \"990af1044016076937a455014dd0a28921b0142e\"\n",
    "LOG_FILE = \"fxcm.log\"\n",
    "LOG_LEVEL = \"error\"\n",
    "SERVER = \"demo\""
   ]
  },
  {
   "cell_type": "code",
   "execution_count": 22,
   "metadata": {},
   "outputs": [
    {
     "ename": "ServerError",
     "evalue": "Can not connect to FXCM Server.",
     "output_type": "error",
     "traceback": [
      "\u001b[1;31m---------------------------------------------------------------------------\u001b[0m",
      "\u001b[1;31mServerError\u001b[0m                               Traceback (most recent call last)",
      "\u001b[1;32md:\\Program-Data\\algorithmic-trading-strategies\\algorithmic-trading-strategies\\trading-bot\\trading-bot.ipynb Cell 4'\u001b[0m in \u001b[0;36m<cell line: 1>\u001b[1;34m()\u001b[0m\n\u001b[1;32m----> <a href='vscode-notebook-cell:/d%3A/Program-Data/algorithmic-trading-strategies/algorithmic-trading-strategies/trading-bot/trading-bot.ipynb#ch0000003?line=0'>1</a>\u001b[0m api \u001b[39m=\u001b[39m fxcmpy\u001b[39m.\u001b[39;49mfxcmpy(access_token\u001b[39m=\u001b[39;49mFXCM_API_TOKEN, log_file\u001b[39m=\u001b[39;49mLOG_FILE, log_level\u001b[39m=\u001b[39;49mLOG_LEVEL, server\u001b[39m=\u001b[39;49mSERVER)\n",
      "File \u001b[1;32md:\\Program-Data\\algorithmic-trading-strategies\\algorithmic-trading-strategies\\env\\lib\\site-packages\\fxcmpy\\fxcmpy.py:218\u001b[0m, in \u001b[0;36mfxcmpy.__init__\u001b[1;34m(self, access_token, config_file, log_file, log_level, server, proxy_url, proxy_port, proxy_type)\u001b[0m\n\u001b[0;32m    <a href='file:///d%3A/Program-Data/algorithmic-trading-strategies/algorithmic-trading-strategies/env/lib/site-packages/fxcmpy/fxcmpy.py?line=215'>216</a>\u001b[0m     \u001b[39mraise\u001b[39;00m ServerError(\u001b[39m'\u001b[39m\u001b[39mCan not find FXCM Server.\u001b[39m\u001b[39m'\u001b[39m)\n\u001b[0;32m    <a href='file:///d%3A/Program-Data/algorithmic-trading-strategies/algorithmic-trading-strategies/env/lib/site-packages/fxcmpy/fxcmpy.py?line=216'>217</a>\u001b[0m \u001b[39melif\u001b[39;00m \u001b[39mself\u001b[39m\u001b[39m.\u001b[39mconnection_status \u001b[39m==\u001b[39m \u001b[39m'\u001b[39m\u001b[39maborted\u001b[39m\u001b[39m'\u001b[39m:\n\u001b[1;32m--> <a href='file:///d%3A/Program-Data/algorithmic-trading-strategies/algorithmic-trading-strategies/env/lib/site-packages/fxcmpy/fxcmpy.py?line=217'>218</a>\u001b[0m     \u001b[39mraise\u001b[39;00m ServerError(\u001b[39m'\u001b[39m\u001b[39mCan not connect to FXCM Server.\u001b[39m\u001b[39m'\u001b[39m)\n\u001b[0;32m    <a href='file:///d%3A/Program-Data/algorithmic-trading-strategies/algorithmic-trading-strategies/env/lib/site-packages/fxcmpy/fxcmpy.py?line=219'>220</a>\u001b[0m \u001b[39mself\u001b[39m\u001b[39m.\u001b[39m__collect_account_ids__()\n\u001b[0;32m    <a href='file:///d%3A/Program-Data/algorithmic-trading-strategies/algorithmic-trading-strategies/env/lib/site-packages/fxcmpy/fxcmpy.py?line=220'>221</a>\u001b[0m \u001b[39mself\u001b[39m\u001b[39m.\u001b[39mdefault_account \u001b[39m=\u001b[39m \u001b[39mself\u001b[39m\u001b[39m.\u001b[39maccount_ids[\u001b[39m0\u001b[39m]\n",
      "\u001b[1;31mServerError\u001b[0m: Can not connect to FXCM Server."
     ]
    }
   ],
   "source": [
    "api = fxcmpy.fxcmpy(access_token=FXCM_API_TOKEN, log_file=LOG_FILE, log_level=LOG_LEVEL, server=SERVER)"
   ]
  },
  {
   "cell_type": "code",
   "execution_count": null,
   "metadata": {},
   "outputs": [],
   "source": [
    "col = [\"tradeId\", \"amountK\", \"currency\", \"grossPL\", \"isBuy\"]"
   ]
  },
  {
   "cell_type": "code",
   "execution_count": null,
   "metadata": {},
   "outputs": [],
   "source": [
    "class MLTrader():\n",
    "\n",
    "  def __init__(self, instrument, bar_length, lags, model, units):\n",
    "    self.instrument = instrument\n",
    "    self.bar_length = pd.to_timedelta(bar_length)\n",
    "    self.tick_data = None\n",
    "    self.raw_data = None\n",
    "    self.data = None\n",
    "    self.ticks = 0\n",
    "    self.last_bar = None\n",
    "    self.units = units\n",
    "    self.position = 0\n",
    "\n",
    "    self.lags = lags\n",
    "    self.model = model\n",
    "\n",
    "  def get_most_recent(self, period=\"m1\", number = 10000):\n",
    "\n",
    "    while True:\n",
    "      time.sleep(5)\n",
    "      df = api.get_candles(self.instrument, number = number, period = period, columns = ['bidclose', 'askclose'])\n",
    "      df['self.instrument'] = (df.bidclose + df.askclose) / 2\n",
    "      df = df[self.instrument].to_frame()\n",
    "      df = df.resample(self.bar_length, label = 'right').last().dropna().iloc[:-1]\n",
    "      self.raw_data = df.copy()\n",
    "      self.last_bar = self.raw_data.index[-1]\n",
    "      if pd.to_datetime(datetime.utcnow()) - self.last_bar < self.bar_length:\n",
    "        break\n",
    "\n",
    "  def get_tick_data(self, data, dataframe):\n",
    "\n",
    "    self.ticks += 1\n",
    "    print(self.ticks, end=\" \")\n",
    "\n",
    "    recent_tick = pd.to_datetime(data['Updated'], unit = 'ms')\n",
    "\n",
    "    if recent_tick - self.last_bar > self.bar_length:\n",
    "\n",
    "      self.tick_data = dataframe.loc[self.last_bar:, [\"Bid\", \"Ask\"]]\n",
    "      self.tick_data[self.instrument] = (self.tick_data.Ask + self.tick_data.Bid) / 2\n",
    "      self.tick_data = self.tick_data[self.instrument].to_frame()\n",
    "      self.resample_and_join()\n",
    "      self.define_strategy()\n",
    "      self.execute_trades()\n",
    "\n",
    "  def resample_and_join(self):\n",
    "    self.raw_data = self.raw_data.append(self.tick_data.resample(self.bar_length, label='right').last().ffill().iloc[:-1])\n",
    "    self.last_bar = self.raw_data.index[-1]\n",
    "\n",
    "  def define_strategy(self):\n",
    "\n",
    "    df = self.raw_data.copy()\n",
    "\n",
    "    df = df.appends(elf.tick_data.iloc[-1])\n",
    "    data['returns'] = np.log(df[self.instrument] / df[self.instrument].shift())\n",
    "\n",
    "    cols = []\n",
    "\n",
    "    for lag in range(1, self.lags + 1):\n",
    "\n",
    "      col = f\"lag{lag}\"\n",
    "      df[col] = df.returns.shift(lag)\n",
    "      cols.append(col)\n",
    "\n",
    "    df.dropna(inplace=True)\n",
    "    df[\"position\"] = lr.predict(df[cols])\n",
    "\n",
    "    self.data = df.copy()\n",
    "\n",
    "  def execute_trades(self):\n",
    "\n",
    "    if self.data['position'].iloc[-1] == 1:\n",
    "      if self.position == 0:\n",
    "        order = api.create_market_buy_order(self.instrument, self.units)\n",
    "        self.report_trade(order, \"GOING LONG\")\n",
    "\n",
    "      elif self.position == -1:\n",
    "        order = api.create_market_buy_order(self.instrument, self.units * 2)\n",
    "        self.report_trade(order, \"GOING LONG\")\n",
    "\n",
    "      self.position = 1\n",
    "    \n",
    "    elif self.data['position'].iloc[-1] == -1:\n",
    "      if self.position == 0:\n",
    "        order = api.create_market_sell_order(self.instrument, self.units)\n",
    "        self.report_trade(order, \"GOING SHORT\")\n",
    "\n",
    "      elif self.position == 1:\n",
    "        order = api.create_market_sell_order(self.instrument, self.units * 2)\n",
    "        self.report_trade(order, \"GOING SHORT\")\n",
    "      \n",
    "      self.position = -1\n",
    "\n",
    "    elif self.data[\"position\"].loc[-1] == 0:\n",
    "      if self.position == -1:\n",
    "        order = api.create_market_buy_order(self.instrument, self.units)\n",
    "        self.report_trade(order, \"GOING NEUTRAL\")\n",
    "\n",
    "      elif self.position == 1:\n",
    "        order = api.create_market_sell_order(self.instrument, self.units)\n",
    "        self.report_trade(order, \"GOING NEUTRAL\")\n",
    "\n",
    "      self.position = 0\n",
    "\n",
    "\n",
    "  def report_trade(self, order, going):\n",
    "    time = order.get_time()\n",
    "    units = api.get_open_positions().amountK.iloc[-1]\n",
    "    price = api.get_open_positions().open.iloc[-1]\n",
    "    unreal_pl = api.get_open_positions().grossPl.sum()\n",
    "    print(\"\\n\" + 100* \"-\")\n",
    "    print(f\"{time} | {going}\")\n",
    "    print(f\"{time} | units = {units} | price = {price} | Unreal. P&L = {unreal_pl}\")\n",
    "    print(100* \"-\" + \"\\n\")\n"
   ]
  },
  {
   "cell_type": "code",
   "execution_count": null,
   "metadata": {},
   "outputs": [],
   "source": [
    "lr = pickle.load(open('linear_reg.p', 'rb'))"
   ]
  },
  {
   "cell_type": "code",
   "execution_count": null,
   "metadata": {},
   "outputs": [],
   "source": [
    "trader = MLTrader(instrument=\"EUR/USD\", bar_length=\"5min\", lags=2, model=lr, units=100)"
   ]
  },
  {
   "cell_type": "code",
   "execution_count": null,
   "metadata": {},
   "outputs": [],
   "source": [
    "trader.model"
   ]
  },
  {
   "cell_type": "code",
   "execution_count": null,
   "metadata": {},
   "outputs": [],
   "source": [
    "trader.get_most_recent()\n",
    "api.subscribe_market_data(trader.instrument, (trader.get_tick_data,))"
   ]
  },
  {
   "cell_type": "code",
   "execution_count": null,
   "metadata": {},
   "outputs": [],
   "source": [
    "api.unsubscribe_market_data(trader.instrument)\n",
    "if len(api.get_open_positions()) != 0:\n",
    "  api.close_all_for_symbol(trader.instrument)\n",
    "  print(2*f\"\\n\"+\"{str(datatime.utcnow())} | GOING NEUTRAL\")\n",
    "  time.sleep(20)\n",
    "  print(api.get_closed_positions_summary()[col])\n",
    "  trader.position = 0"
   ]
  },
  {
   "cell_type": "code",
   "execution_count": null,
   "metadata": {},
   "outputs": [],
   "source": [
    "trader.data.tail(10)"
   ]
  },
  {
   "cell_type": "code",
   "execution_count": null,
   "metadata": {},
   "outputs": [],
   "source": [
    "api.close()"
   ]
  }
 ],
 "metadata": {
  "interpreter": {
   "hash": "aa4f8eaefb05b596a11b8ae77c4a4e93cda3008b3c40a33b4b33cce799ef77ac"
  },
  "kernelspec": {
   "display_name": "Python 3.9.2 ('env': venv)",
   "language": "python",
   "name": "python3"
  },
  "language_info": {
   "codemirror_mode": {
    "name": "ipython",
    "version": 3
   },
   "file_extension": ".py",
   "mimetype": "text/x-python",
   "name": "python",
   "nbconvert_exporter": "python",
   "pygments_lexer": "ipython3",
   "version": "3.9.2"
  },
  "orig_nbformat": 4
 },
 "nbformat": 4,
 "nbformat_minor": 2
}
