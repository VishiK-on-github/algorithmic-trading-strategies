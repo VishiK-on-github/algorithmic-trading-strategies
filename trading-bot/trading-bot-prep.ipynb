{
 "cells": [
  {
   "cell_type": "markdown",
   "metadata": {},
   "source": [
    "## Trading Bot - Preparation for ML strategy"
   ]
  },
  {
   "cell_type": "code",
   "execution_count": 44,
   "metadata": {},
   "outputs": [],
   "source": [
    "import pandas as pd\n",
    "import numpy as np\n",
    "from sklearn.linear_model import LinearRegression"
   ]
  },
  {
   "cell_type": "code",
   "execution_count": 45,
   "metadata": {},
   "outputs": [],
   "source": [
    "data = pd.read_csv(filepath_or_buffer=\"../resources/train_set.csv\", parse_dates=['time'], index_col='time')"
   ]
  },
  {
   "cell_type": "code",
   "execution_count": 46,
   "metadata": {},
   "outputs": [
    {
     "data": {
      "text/html": [
       "<div>\n",
       "<style scoped>\n",
       "    .dataframe tbody tr th:only-of-type {\n",
       "        vertical-align: middle;\n",
       "    }\n",
       "\n",
       "    .dataframe tbody tr th {\n",
       "        vertical-align: top;\n",
       "    }\n",
       "\n",
       "    .dataframe thead th {\n",
       "        text-align: right;\n",
       "    }\n",
       "</style>\n",
       "<table border=\"1\" class=\"dataframe\">\n",
       "  <thead>\n",
       "    <tr style=\"text-align: right;\">\n",
       "      <th></th>\n",
       "      <th>Close</th>\n",
       "    </tr>\n",
       "    <tr>\n",
       "      <th>time</th>\n",
       "      <th></th>\n",
       "    </tr>\n",
       "  </thead>\n",
       "  <tbody>\n",
       "    <tr>\n",
       "      <th>2009-12-31</th>\n",
       "      <td>1.432706</td>\n",
       "    </tr>\n",
       "    <tr>\n",
       "      <th>2010-01-01</th>\n",
       "      <td>1.438994</td>\n",
       "    </tr>\n",
       "    <tr>\n",
       "      <th>2010-01-04</th>\n",
       "      <td>1.442398</td>\n",
       "    </tr>\n",
       "    <tr>\n",
       "      <th>2010-01-05</th>\n",
       "      <td>1.436596</td>\n",
       "    </tr>\n",
       "    <tr>\n",
       "      <th>2010-01-06</th>\n",
       "      <td>1.440403</td>\n",
       "    </tr>\n",
       "    <tr>\n",
       "      <th>...</th>\n",
       "      <td>...</td>\n",
       "    </tr>\n",
       "    <tr>\n",
       "      <th>2020-12-25</th>\n",
       "      <td>1.218472</td>\n",
       "    </tr>\n",
       "    <tr>\n",
       "      <th>2020-12-28</th>\n",
       "      <td>1.220510</td>\n",
       "    </tr>\n",
       "    <tr>\n",
       "      <th>2020-12-29</th>\n",
       "      <td>1.222345</td>\n",
       "    </tr>\n",
       "    <tr>\n",
       "      <th>2020-12-30</th>\n",
       "      <td>1.225295</td>\n",
       "    </tr>\n",
       "    <tr>\n",
       "      <th>2020-12-31</th>\n",
       "      <td>1.229990</td>\n",
       "    </tr>\n",
       "  </tbody>\n",
       "</table>\n",
       "<p>2866 rows × 1 columns</p>\n",
       "</div>"
      ],
      "text/plain": [
       "               Close\n",
       "time                \n",
       "2009-12-31  1.432706\n",
       "2010-01-01  1.438994\n",
       "2010-01-04  1.442398\n",
       "2010-01-05  1.436596\n",
       "2010-01-06  1.440403\n",
       "...              ...\n",
       "2020-12-25  1.218472\n",
       "2020-12-28  1.220510\n",
       "2020-12-29  1.222345\n",
       "2020-12-30  1.225295\n",
       "2020-12-31  1.229990\n",
       "\n",
       "[2866 rows x 1 columns]"
      ]
     },
     "execution_count": 46,
     "metadata": {},
     "output_type": "execute_result"
    }
   ],
   "source": [
    "data"
   ]
  },
  {
   "cell_type": "code",
   "execution_count": 47,
   "metadata": {},
   "outputs": [],
   "source": [
    "data['returns'] = np.log(data.div(data.shift(1)))"
   ]
  },
  {
   "cell_type": "code",
   "execution_count": 48,
   "metadata": {},
   "outputs": [],
   "source": [
    "data.dropna(inplace=True)"
   ]
  },
  {
   "cell_type": "code",
   "execution_count": 49,
   "metadata": {},
   "outputs": [],
   "source": [
    "data['direction'] = np.sign(data.returns)"
   ]
  },
  {
   "cell_type": "code",
   "execution_count": 50,
   "metadata": {},
   "outputs": [
    {
     "data": {
      "text/html": [
       "<div>\n",
       "<style scoped>\n",
       "    .dataframe tbody tr th:only-of-type {\n",
       "        vertical-align: middle;\n",
       "    }\n",
       "\n",
       "    .dataframe tbody tr th {\n",
       "        vertical-align: top;\n",
       "    }\n",
       "\n",
       "    .dataframe thead th {\n",
       "        text-align: right;\n",
       "    }\n",
       "</style>\n",
       "<table border=\"1\" class=\"dataframe\">\n",
       "  <thead>\n",
       "    <tr style=\"text-align: right;\">\n",
       "      <th></th>\n",
       "      <th>Close</th>\n",
       "      <th>returns</th>\n",
       "      <th>direction</th>\n",
       "    </tr>\n",
       "    <tr>\n",
       "      <th>time</th>\n",
       "      <th></th>\n",
       "      <th></th>\n",
       "      <th></th>\n",
       "    </tr>\n",
       "  </thead>\n",
       "  <tbody>\n",
       "    <tr>\n",
       "      <th>2010-01-01</th>\n",
       "      <td>1.438994</td>\n",
       "      <td>0.004379</td>\n",
       "      <td>1.0</td>\n",
       "    </tr>\n",
       "    <tr>\n",
       "      <th>2010-01-04</th>\n",
       "      <td>1.442398</td>\n",
       "      <td>0.002363</td>\n",
       "      <td>1.0</td>\n",
       "    </tr>\n",
       "    <tr>\n",
       "      <th>2010-01-05</th>\n",
       "      <td>1.436596</td>\n",
       "      <td>-0.004031</td>\n",
       "      <td>-1.0</td>\n",
       "    </tr>\n",
       "    <tr>\n",
       "      <th>2010-01-06</th>\n",
       "      <td>1.440403</td>\n",
       "      <td>0.002647</td>\n",
       "      <td>1.0</td>\n",
       "    </tr>\n",
       "    <tr>\n",
       "      <th>2010-01-07</th>\n",
       "      <td>1.431803</td>\n",
       "      <td>-0.005989</td>\n",
       "      <td>-1.0</td>\n",
       "    </tr>\n",
       "    <tr>\n",
       "      <th>...</th>\n",
       "      <td>...</td>\n",
       "      <td>...</td>\n",
       "      <td>...</td>\n",
       "    </tr>\n",
       "    <tr>\n",
       "      <th>2020-12-25</th>\n",
       "      <td>1.218472</td>\n",
       "      <td>-0.000549</td>\n",
       "      <td>-1.0</td>\n",
       "    </tr>\n",
       "    <tr>\n",
       "      <th>2020-12-28</th>\n",
       "      <td>1.220510</td>\n",
       "      <td>0.001671</td>\n",
       "      <td>1.0</td>\n",
       "    </tr>\n",
       "    <tr>\n",
       "      <th>2020-12-29</th>\n",
       "      <td>1.222345</td>\n",
       "      <td>0.001502</td>\n",
       "      <td>1.0</td>\n",
       "    </tr>\n",
       "    <tr>\n",
       "      <th>2020-12-30</th>\n",
       "      <td>1.225295</td>\n",
       "      <td>0.002411</td>\n",
       "      <td>1.0</td>\n",
       "    </tr>\n",
       "    <tr>\n",
       "      <th>2020-12-31</th>\n",
       "      <td>1.229990</td>\n",
       "      <td>0.003824</td>\n",
       "      <td>1.0</td>\n",
       "    </tr>\n",
       "  </tbody>\n",
       "</table>\n",
       "<p>2865 rows × 3 columns</p>\n",
       "</div>"
      ],
      "text/plain": [
       "               Close   returns  direction\n",
       "time                                     \n",
       "2010-01-01  1.438994  0.004379        1.0\n",
       "2010-01-04  1.442398  0.002363        1.0\n",
       "2010-01-05  1.436596 -0.004031       -1.0\n",
       "2010-01-06  1.440403  0.002647        1.0\n",
       "2010-01-07  1.431803 -0.005989       -1.0\n",
       "...              ...       ...        ...\n",
       "2020-12-25  1.218472 -0.000549       -1.0\n",
       "2020-12-28  1.220510  0.001671        1.0\n",
       "2020-12-29  1.222345  0.001502        1.0\n",
       "2020-12-30  1.225295  0.002411        1.0\n",
       "2020-12-31  1.229990  0.003824        1.0\n",
       "\n",
       "[2865 rows x 3 columns]"
      ]
     },
     "execution_count": 50,
     "metadata": {},
     "output_type": "execute_result"
    }
   ],
   "source": [
    "data"
   ]
  },
  {
   "cell_type": "code",
   "execution_count": 51,
   "metadata": {},
   "outputs": [],
   "source": [
    "lags = 2"
   ]
  },
  {
   "cell_type": "code",
   "execution_count": 52,
   "metadata": {},
   "outputs": [],
   "source": [
    "cols = []\n",
    "\n",
    "for lag in range(1, lags + 1):\n",
    "\n",
    "  col = f\"lag{lag}\"\n",
    "  data[col] = data.returns.shift(lag)\n",
    "  cols.append(col)\n",
    "\n",
    "data.dropna(inplace=True)"
   ]
  },
  {
   "cell_type": "code",
   "execution_count": 53,
   "metadata": {},
   "outputs": [
    {
     "data": {
      "text/html": [
       "<div>\n",
       "<style scoped>\n",
       "    .dataframe tbody tr th:only-of-type {\n",
       "        vertical-align: middle;\n",
       "    }\n",
       "\n",
       "    .dataframe tbody tr th {\n",
       "        vertical-align: top;\n",
       "    }\n",
       "\n",
       "    .dataframe thead th {\n",
       "        text-align: right;\n",
       "    }\n",
       "</style>\n",
       "<table border=\"1\" class=\"dataframe\">\n",
       "  <thead>\n",
       "    <tr style=\"text-align: right;\">\n",
       "      <th></th>\n",
       "      <th>Close</th>\n",
       "      <th>returns</th>\n",
       "      <th>direction</th>\n",
       "      <th>lag1</th>\n",
       "      <th>lag2</th>\n",
       "    </tr>\n",
       "    <tr>\n",
       "      <th>time</th>\n",
       "      <th></th>\n",
       "      <th></th>\n",
       "      <th></th>\n",
       "      <th></th>\n",
       "      <th></th>\n",
       "    </tr>\n",
       "  </thead>\n",
       "  <tbody>\n",
       "    <tr>\n",
       "      <th>2010-01-05</th>\n",
       "      <td>1.436596</td>\n",
       "      <td>-0.004031</td>\n",
       "      <td>-1.0</td>\n",
       "      <td>0.002363</td>\n",
       "      <td>0.004379</td>\n",
       "    </tr>\n",
       "    <tr>\n",
       "      <th>2010-01-06</th>\n",
       "      <td>1.440403</td>\n",
       "      <td>0.002647</td>\n",
       "      <td>1.0</td>\n",
       "      <td>-0.004031</td>\n",
       "      <td>0.002363</td>\n",
       "    </tr>\n",
       "    <tr>\n",
       "      <th>2010-01-07</th>\n",
       "      <td>1.431803</td>\n",
       "      <td>-0.005989</td>\n",
       "      <td>-1.0</td>\n",
       "      <td>0.002647</td>\n",
       "      <td>-0.004031</td>\n",
       "    </tr>\n",
       "    <tr>\n",
       "      <th>2010-01-08</th>\n",
       "      <td>1.441109</td>\n",
       "      <td>0.006478</td>\n",
       "      <td>1.0</td>\n",
       "      <td>-0.005989</td>\n",
       "      <td>0.002647</td>\n",
       "    </tr>\n",
       "    <tr>\n",
       "      <th>2010-01-11</th>\n",
       "      <td>1.451126</td>\n",
       "      <td>0.006927</td>\n",
       "      <td>1.0</td>\n",
       "      <td>0.006478</td>\n",
       "      <td>-0.005989</td>\n",
       "    </tr>\n",
       "    <tr>\n",
       "      <th>...</th>\n",
       "      <td>...</td>\n",
       "      <td>...</td>\n",
       "      <td>...</td>\n",
       "      <td>...</td>\n",
       "      <td>...</td>\n",
       "    </tr>\n",
       "    <tr>\n",
       "      <th>2020-12-25</th>\n",
       "      <td>1.218472</td>\n",
       "      <td>-0.000549</td>\n",
       "      <td>-1.0</td>\n",
       "      <td>0.000390</td>\n",
       "      <td>-0.004115</td>\n",
       "    </tr>\n",
       "    <tr>\n",
       "      <th>2020-12-28</th>\n",
       "      <td>1.220510</td>\n",
       "      <td>0.001671</td>\n",
       "      <td>1.0</td>\n",
       "      <td>-0.000549</td>\n",
       "      <td>0.000390</td>\n",
       "    </tr>\n",
       "    <tr>\n",
       "      <th>2020-12-29</th>\n",
       "      <td>1.222345</td>\n",
       "      <td>0.001502</td>\n",
       "      <td>1.0</td>\n",
       "      <td>0.001671</td>\n",
       "      <td>-0.000549</td>\n",
       "    </tr>\n",
       "    <tr>\n",
       "      <th>2020-12-30</th>\n",
       "      <td>1.225295</td>\n",
       "      <td>0.002411</td>\n",
       "      <td>1.0</td>\n",
       "      <td>0.001502</td>\n",
       "      <td>0.001671</td>\n",
       "    </tr>\n",
       "    <tr>\n",
       "      <th>2020-12-31</th>\n",
       "      <td>1.229990</td>\n",
       "      <td>0.003824</td>\n",
       "      <td>1.0</td>\n",
       "      <td>0.002411</td>\n",
       "      <td>0.001502</td>\n",
       "    </tr>\n",
       "  </tbody>\n",
       "</table>\n",
       "<p>2863 rows × 5 columns</p>\n",
       "</div>"
      ],
      "text/plain": [
       "               Close   returns  direction      lag1      lag2\n",
       "time                                                         \n",
       "2010-01-05  1.436596 -0.004031       -1.0  0.002363  0.004379\n",
       "2010-01-06  1.440403  0.002647        1.0 -0.004031  0.002363\n",
       "2010-01-07  1.431803 -0.005989       -1.0  0.002647 -0.004031\n",
       "2010-01-08  1.441109  0.006478        1.0 -0.005989  0.002647\n",
       "2010-01-11  1.451126  0.006927        1.0  0.006478 -0.005989\n",
       "...              ...       ...        ...       ...       ...\n",
       "2020-12-25  1.218472 -0.000549       -1.0  0.000390 -0.004115\n",
       "2020-12-28  1.220510  0.001671        1.0 -0.000549  0.000390\n",
       "2020-12-29  1.222345  0.001502        1.0  0.001671 -0.000549\n",
       "2020-12-30  1.225295  0.002411        1.0  0.001502  0.001671\n",
       "2020-12-31  1.229990  0.003824        1.0  0.002411  0.001502\n",
       "\n",
       "[2863 rows x 5 columns]"
      ]
     },
     "execution_count": 53,
     "metadata": {},
     "output_type": "execute_result"
    }
   ],
   "source": [
    "data"
   ]
  },
  {
   "cell_type": "code",
   "execution_count": 54,
   "metadata": {},
   "outputs": [],
   "source": [
    "lr = LinearRegression(fit_intercept=True)"
   ]
  },
  {
   "cell_type": "code",
   "execution_count": 55,
   "metadata": {},
   "outputs": [
    {
     "data": {
      "text/plain": [
       "LinearRegression()"
      ]
     },
     "execution_count": 55,
     "metadata": {},
     "output_type": "execute_result"
    }
   ],
   "source": [
    "lr.fit(data[cols], data.direction)"
   ]
  },
  {
   "cell_type": "markdown",
   "metadata": {},
   "source": [
    "In sample \"Prediction\""
   ]
  },
  {
   "cell_type": "code",
   "execution_count": 56,
   "metadata": {},
   "outputs": [],
   "source": [
    "data[\"pred\"] = lr.predict(data[cols])"
   ]
  },
  {
   "cell_type": "code",
   "execution_count": 57,
   "metadata": {},
   "outputs": [
    {
     "data": {
      "text/html": [
       "<div>\n",
       "<style scoped>\n",
       "    .dataframe tbody tr th:only-of-type {\n",
       "        vertical-align: middle;\n",
       "    }\n",
       "\n",
       "    .dataframe tbody tr th {\n",
       "        vertical-align: top;\n",
       "    }\n",
       "\n",
       "    .dataframe thead th {\n",
       "        text-align: right;\n",
       "    }\n",
       "</style>\n",
       "<table border=\"1\" class=\"dataframe\">\n",
       "  <thead>\n",
       "    <tr style=\"text-align: right;\">\n",
       "      <th></th>\n",
       "      <th>Close</th>\n",
       "      <th>returns</th>\n",
       "      <th>direction</th>\n",
       "      <th>lag1</th>\n",
       "      <th>lag2</th>\n",
       "      <th>pred</th>\n",
       "    </tr>\n",
       "    <tr>\n",
       "      <th>time</th>\n",
       "      <th></th>\n",
       "      <th></th>\n",
       "      <th></th>\n",
       "      <th></th>\n",
       "      <th></th>\n",
       "      <th></th>\n",
       "    </tr>\n",
       "  </thead>\n",
       "  <tbody>\n",
       "    <tr>\n",
       "      <th>2010-01-05</th>\n",
       "      <td>1.436596</td>\n",
       "      <td>-0.004031</td>\n",
       "      <td>-1.0</td>\n",
       "      <td>0.002363</td>\n",
       "      <td>0.004379</td>\n",
       "      <td>-0.012243</td>\n",
       "    </tr>\n",
       "    <tr>\n",
       "      <th>2010-01-06</th>\n",
       "      <td>1.440403</td>\n",
       "      <td>0.002647</td>\n",
       "      <td>1.0</td>\n",
       "      <td>-0.004031</td>\n",
       "      <td>0.002363</td>\n",
       "      <td>0.021122</td>\n",
       "    </tr>\n",
       "    <tr>\n",
       "      <th>2010-01-07</th>\n",
       "      <td>1.431803</td>\n",
       "      <td>-0.005989</td>\n",
       "      <td>-1.0</td>\n",
       "      <td>0.002647</td>\n",
       "      <td>-0.004031</td>\n",
       "      <td>-0.000053</td>\n",
       "    </tr>\n",
       "    <tr>\n",
       "      <th>2010-01-08</th>\n",
       "      <td>1.441109</td>\n",
       "      <td>0.006478</td>\n",
       "      <td>1.0</td>\n",
       "      <td>-0.005989</td>\n",
       "      <td>0.002647</td>\n",
       "      <td>0.029889</td>\n",
       "    </tr>\n",
       "    <tr>\n",
       "      <th>2010-01-11</th>\n",
       "      <td>1.451126</td>\n",
       "      <td>0.006927</td>\n",
       "      <td>1.0</td>\n",
       "      <td>0.006478</td>\n",
       "      <td>-0.005989</td>\n",
       "      <td>-0.014955</td>\n",
       "    </tr>\n",
       "    <tr>\n",
       "      <th>...</th>\n",
       "      <td>...</td>\n",
       "      <td>...</td>\n",
       "      <td>...</td>\n",
       "      <td>...</td>\n",
       "      <td>...</td>\n",
       "      <td>...</td>\n",
       "    </tr>\n",
       "    <tr>\n",
       "      <th>2020-12-25</th>\n",
       "      <td>1.218472</td>\n",
       "      <td>-0.000549</td>\n",
       "      <td>-1.0</td>\n",
       "      <td>0.000390</td>\n",
       "      <td>-0.004115</td>\n",
       "      <td>0.010715</td>\n",
       "    </tr>\n",
       "    <tr>\n",
       "      <th>2020-12-28</th>\n",
       "      <td>1.220510</td>\n",
       "      <td>0.001671</td>\n",
       "      <td>1.0</td>\n",
       "      <td>-0.000549</td>\n",
       "      <td>0.000390</td>\n",
       "      <td>0.007890</td>\n",
       "    </tr>\n",
       "    <tr>\n",
       "      <th>2020-12-29</th>\n",
       "      <td>1.222345</td>\n",
       "      <td>0.001502</td>\n",
       "      <td>1.0</td>\n",
       "      <td>0.001671</td>\n",
       "      <td>-0.000549</td>\n",
       "      <td>-0.001056</td>\n",
       "    </tr>\n",
       "    <tr>\n",
       "      <th>2020-12-30</th>\n",
       "      <td>1.225295</td>\n",
       "      <td>0.002411</td>\n",
       "      <td>1.0</td>\n",
       "      <td>0.001502</td>\n",
       "      <td>0.001671</td>\n",
       "      <td>-0.003832</td>\n",
       "    </tr>\n",
       "    <tr>\n",
       "      <th>2020-12-31</th>\n",
       "      <td>1.229990</td>\n",
       "      <td>0.003824</td>\n",
       "      <td>1.0</td>\n",
       "      <td>0.002411</td>\n",
       "      <td>0.001502</td>\n",
       "      <td>-0.007842</td>\n",
       "    </tr>\n",
       "  </tbody>\n",
       "</table>\n",
       "<p>2863 rows × 6 columns</p>\n",
       "</div>"
      ],
      "text/plain": [
       "               Close   returns  direction      lag1      lag2      pred\n",
       "time                                                                   \n",
       "2010-01-05  1.436596 -0.004031       -1.0  0.002363  0.004379 -0.012243\n",
       "2010-01-06  1.440403  0.002647        1.0 -0.004031  0.002363  0.021122\n",
       "2010-01-07  1.431803 -0.005989       -1.0  0.002647 -0.004031 -0.000053\n",
       "2010-01-08  1.441109  0.006478        1.0 -0.005989  0.002647  0.029889\n",
       "2010-01-11  1.451126  0.006927        1.0  0.006478 -0.005989 -0.014955\n",
       "...              ...       ...        ...       ...       ...       ...\n",
       "2020-12-25  1.218472 -0.000549       -1.0  0.000390 -0.004115  0.010715\n",
       "2020-12-28  1.220510  0.001671        1.0 -0.000549  0.000390  0.007890\n",
       "2020-12-29  1.222345  0.001502        1.0  0.001671 -0.000549 -0.001056\n",
       "2020-12-30  1.225295  0.002411        1.0  0.001502  0.001671 -0.003832\n",
       "2020-12-31  1.229990  0.003824        1.0  0.002411  0.001502 -0.007842\n",
       "\n",
       "[2863 rows x 6 columns]"
      ]
     },
     "execution_count": 57,
     "metadata": {},
     "output_type": "execute_result"
    }
   ],
   "source": [
    "data"
   ]
  },
  {
   "cell_type": "code",
   "execution_count": 58,
   "metadata": {},
   "outputs": [],
   "source": [
    "hits = np.sign(data.direction * data.pred).value_counts()"
   ]
  },
  {
   "cell_type": "code",
   "execution_count": 59,
   "metadata": {},
   "outputs": [
    {
     "data": {
      "text/plain": [
       " 1.0    1464\n",
       "-1.0    1382\n",
       " 0.0      17\n",
       "dtype: int64"
      ]
     },
     "execution_count": 59,
     "metadata": {},
     "output_type": "execute_result"
    }
   ],
   "source": [
    "hits"
   ]
  },
  {
   "cell_type": "code",
   "execution_count": 60,
   "metadata": {},
   "outputs": [
    {
     "data": {
      "text/plain": [
       "0.511351728955641"
      ]
     },
     "execution_count": 60,
     "metadata": {},
     "output_type": "execute_result"
    }
   ],
   "source": [
    "hit_ratio = hits[1.0] / sum(hits)\n",
    "hit_ratio"
   ]
  },
  {
   "cell_type": "code",
   "execution_count": 61,
   "metadata": {},
   "outputs": [
    {
     "data": {
      "text/plain": [
       "LinearRegression()"
      ]
     },
     "execution_count": 61,
     "metadata": {},
     "output_type": "execute_result"
    }
   ],
   "source": [
    "lr"
   ]
  },
  {
   "cell_type": "markdown",
   "metadata": {},
   "source": [
    "Saving the model"
   ]
  },
  {
   "cell_type": "code",
   "execution_count": 62,
   "metadata": {},
   "outputs": [],
   "source": [
    "import pickle"
   ]
  },
  {
   "cell_type": "code",
   "execution_count": 63,
   "metadata": {},
   "outputs": [],
   "source": [
    "pickle.dump(lr, open(\"linear_reg.p\", \"wb\"))"
   ]
  }
 ],
 "metadata": {
  "interpreter": {
   "hash": "aa4f8eaefb05b596a11b8ae77c4a4e93cda3008b3c40a33b4b33cce799ef77ac"
  },
  "kernelspec": {
   "display_name": "Python 3.9.2 ('env': venv)",
   "language": "python",
   "name": "python3"
  },
  "language_info": {
   "codemirror_mode": {
    "name": "ipython",
    "version": 3
   },
   "file_extension": ".py",
   "mimetype": "text/x-python",
   "name": "python",
   "nbconvert_exporter": "python",
   "pygments_lexer": "ipython3",
   "version": "3.9.2"
  },
  "orig_nbformat": 4
 },
 "nbformat": 4,
 "nbformat_minor": 2
}
