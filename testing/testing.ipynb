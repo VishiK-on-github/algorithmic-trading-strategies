{
 "cells": [
  {
   "cell_type": "code",
   "execution_count": 50,
   "metadata": {},
   "outputs": [],
   "source": [
    "import pandas as pd\n",
    "import yfinance as yf"
   ]
  },
  {
   "cell_type": "code",
   "execution_count": 51,
   "metadata": {},
   "outputs": [
    {
     "name": "stdout",
     "output_type": "stream",
     "text": [
      "[*********************100%***********************]  1 of 1 completed\n"
     ]
    }
   ],
   "source": [
    "data = yf.download('EURUSD=X', start='2021-01-01', end='2022-01-01')"
   ]
  },
  {
   "cell_type": "code",
   "execution_count": 52,
   "metadata": {},
   "outputs": [
    {
     "data": {
      "text/html": [
       "<div>\n",
       "<style scoped>\n",
       "    .dataframe tbody tr th:only-of-type {\n",
       "        vertical-align: middle;\n",
       "    }\n",
       "\n",
       "    .dataframe tbody tr th {\n",
       "        vertical-align: top;\n",
       "    }\n",
       "\n",
       "    .dataframe thead th {\n",
       "        text-align: right;\n",
       "    }\n",
       "</style>\n",
       "<table border=\"1\" class=\"dataframe\">\n",
       "  <thead>\n",
       "    <tr style=\"text-align: right;\">\n",
       "      <th></th>\n",
       "      <th>Open</th>\n",
       "      <th>High</th>\n",
       "      <th>Low</th>\n",
       "      <th>Close</th>\n",
       "      <th>Adj Close</th>\n",
       "      <th>Volume</th>\n",
       "    </tr>\n",
       "    <tr>\n",
       "      <th>Date</th>\n",
       "      <th></th>\n",
       "      <th></th>\n",
       "      <th></th>\n",
       "      <th></th>\n",
       "      <th></th>\n",
       "      <th></th>\n",
       "    </tr>\n",
       "  </thead>\n",
       "  <tbody>\n",
       "    <tr>\n",
       "      <th>2020-12-31</th>\n",
       "      <td>1.229906</td>\n",
       "      <td>1.230951</td>\n",
       "      <td>1.222300</td>\n",
       "      <td>1.229990</td>\n",
       "      <td>1.229990</td>\n",
       "      <td>0</td>\n",
       "    </tr>\n",
       "    <tr>\n",
       "      <th>2021-01-01</th>\n",
       "      <td>1.217285</td>\n",
       "      <td>1.221699</td>\n",
       "      <td>1.213499</td>\n",
       "      <td>1.218027</td>\n",
       "      <td>1.218027</td>\n",
       "      <td>0</td>\n",
       "    </tr>\n",
       "    <tr>\n",
       "      <th>2021-01-04</th>\n",
       "      <td>1.224905</td>\n",
       "      <td>1.230999</td>\n",
       "      <td>1.217137</td>\n",
       "      <td>1.225070</td>\n",
       "      <td>1.225070</td>\n",
       "      <td>0</td>\n",
       "    </tr>\n",
       "    <tr>\n",
       "      <th>2021-01-05</th>\n",
       "      <td>1.225295</td>\n",
       "      <td>1.229483</td>\n",
       "      <td>1.224995</td>\n",
       "      <td>1.225160</td>\n",
       "      <td>1.225160</td>\n",
       "      <td>0</td>\n",
       "    </tr>\n",
       "    <tr>\n",
       "      <th>2021-01-06</th>\n",
       "      <td>1.229861</td>\n",
       "      <td>1.235025</td>\n",
       "      <td>1.226693</td>\n",
       "      <td>1.230027</td>\n",
       "      <td>1.230027</td>\n",
       "      <td>0</td>\n",
       "    </tr>\n",
       "    <tr>\n",
       "      <th>...</th>\n",
       "      <td>...</td>\n",
       "      <td>...</td>\n",
       "      <td>...</td>\n",
       "      <td>...</td>\n",
       "      <td>...</td>\n",
       "      <td>...</td>\n",
       "    </tr>\n",
       "    <tr>\n",
       "      <th>2021-12-27</th>\n",
       "      <td>1.132387</td>\n",
       "      <td>1.133500</td>\n",
       "      <td>1.130416</td>\n",
       "      <td>1.132426</td>\n",
       "      <td>1.132426</td>\n",
       "      <td>0</td>\n",
       "    </tr>\n",
       "    <tr>\n",
       "      <th>2021-12-28</th>\n",
       "      <td>1.132978</td>\n",
       "      <td>1.133600</td>\n",
       "      <td>1.129038</td>\n",
       "      <td>1.133003</td>\n",
       "      <td>1.133003</td>\n",
       "      <td>0</td>\n",
       "    </tr>\n",
       "    <tr>\n",
       "      <th>2021-12-29</th>\n",
       "      <td>1.131337</td>\n",
       "      <td>1.137001</td>\n",
       "      <td>1.127536</td>\n",
       "      <td>1.131478</td>\n",
       "      <td>1.131478</td>\n",
       "      <td>0</td>\n",
       "    </tr>\n",
       "    <tr>\n",
       "      <th>2021-12-30</th>\n",
       "      <td>1.135976</td>\n",
       "      <td>1.135976</td>\n",
       "      <td>1.130071</td>\n",
       "      <td>1.136015</td>\n",
       "      <td>1.136015</td>\n",
       "      <td>0</td>\n",
       "    </tr>\n",
       "    <tr>\n",
       "      <th>2021-12-31</th>\n",
       "      <td>1.132323</td>\n",
       "      <td>1.137915</td>\n",
       "      <td>1.130506</td>\n",
       "      <td>1.132503</td>\n",
       "      <td>1.132503</td>\n",
       "      <td>0</td>\n",
       "    </tr>\n",
       "  </tbody>\n",
       "</table>\n",
       "<p>262 rows × 6 columns</p>\n",
       "</div>"
      ],
      "text/plain": [
       "                Open      High       Low     Close  Adj Close  Volume\n",
       "Date                                                                 \n",
       "2020-12-31  1.229906  1.230951  1.222300  1.229990   1.229990       0\n",
       "2021-01-01  1.217285  1.221699  1.213499  1.218027   1.218027       0\n",
       "2021-01-04  1.224905  1.230999  1.217137  1.225070   1.225070       0\n",
       "2021-01-05  1.225295  1.229483  1.224995  1.225160   1.225160       0\n",
       "2021-01-06  1.229861  1.235025  1.226693  1.230027   1.230027       0\n",
       "...              ...       ...       ...       ...        ...     ...\n",
       "2021-12-27  1.132387  1.133500  1.130416  1.132426   1.132426       0\n",
       "2021-12-28  1.132978  1.133600  1.129038  1.133003   1.133003       0\n",
       "2021-12-29  1.131337  1.137001  1.127536  1.131478   1.131478       0\n",
       "2021-12-30  1.135976  1.135976  1.130071  1.136015   1.136015       0\n",
       "2021-12-31  1.132323  1.137915  1.130506  1.132503   1.132503       0\n",
       "\n",
       "[262 rows x 6 columns]"
      ]
     },
     "execution_count": 52,
     "metadata": {},
     "output_type": "execute_result"
    }
   ],
   "source": [
    "data"
   ]
  },
  {
   "cell_type": "code",
   "execution_count": 53,
   "metadata": {},
   "outputs": [],
   "source": [
    "data = data.Close.to_frame()"
   ]
  },
  {
   "cell_type": "code",
   "execution_count": 54,
   "metadata": {},
   "outputs": [
    {
     "data": {
      "text/html": [
       "<div>\n",
       "<style scoped>\n",
       "    .dataframe tbody tr th:only-of-type {\n",
       "        vertical-align: middle;\n",
       "    }\n",
       "\n",
       "    .dataframe tbody tr th {\n",
       "        vertical-align: top;\n",
       "    }\n",
       "\n",
       "    .dataframe thead th {\n",
       "        text-align: right;\n",
       "    }\n",
       "</style>\n",
       "<table border=\"1\" class=\"dataframe\">\n",
       "  <thead>\n",
       "    <tr style=\"text-align: right;\">\n",
       "      <th></th>\n",
       "      <th>Close</th>\n",
       "    </tr>\n",
       "    <tr>\n",
       "      <th>Date</th>\n",
       "      <th></th>\n",
       "    </tr>\n",
       "  </thead>\n",
       "  <tbody>\n",
       "    <tr>\n",
       "      <th>2021-12-27</th>\n",
       "      <td>1.132426</td>\n",
       "    </tr>\n",
       "    <tr>\n",
       "      <th>2021-12-28</th>\n",
       "      <td>1.133003</td>\n",
       "    </tr>\n",
       "    <tr>\n",
       "      <th>2021-12-29</th>\n",
       "      <td>1.131478</td>\n",
       "    </tr>\n",
       "    <tr>\n",
       "      <th>2021-12-30</th>\n",
       "      <td>1.136015</td>\n",
       "    </tr>\n",
       "    <tr>\n",
       "      <th>2021-12-31</th>\n",
       "      <td>1.132503</td>\n",
       "    </tr>\n",
       "  </tbody>\n",
       "</table>\n",
       "</div>"
      ],
      "text/plain": [
       "               Close\n",
       "Date                \n",
       "2021-12-27  1.132426\n",
       "2021-12-28  1.133003\n",
       "2021-12-29  1.131478\n",
       "2021-12-30  1.136015\n",
       "2021-12-31  1.132503"
      ]
     },
     "execution_count": 54,
     "metadata": {},
     "output_type": "execute_result"
    }
   ],
   "source": [
    "data.tail()"
   ]
  },
  {
   "cell_type": "code",
   "execution_count": 55,
   "metadata": {},
   "outputs": [],
   "source": [
    "data.index.names = ['time']"
   ]
  },
  {
   "cell_type": "code",
   "execution_count": 56,
   "metadata": {},
   "outputs": [],
   "source": [
    "data.to_csv('test_set.csv')"
   ]
  }
 ],
 "metadata": {
  "interpreter": {
   "hash": "aa4f8eaefb05b596a11b8ae77c4a4e93cda3008b3c40a33b4b33cce799ef77ac"
  },
  "kernelspec": {
   "display_name": "Python 3.9.2 ('env': venv)",
   "language": "python",
   "name": "python3"
  },
  "language_info": {
   "codemirror_mode": {
    "name": "ipython",
    "version": 3
   },
   "file_extension": ".py",
   "mimetype": "text/x-python",
   "name": "python",
   "nbconvert_exporter": "python",
   "pygments_lexer": "ipython3",
   "version": "3.9.2"
  },
  "orig_nbformat": 4
 },
 "nbformat": 4,
 "nbformat_minor": 2
}
